{
 "cells": [
  {
   "attachments": {},
   "cell_type": "markdown",
   "metadata": {},
   "source": [
    "# Coding in Action Lab II -- Group Project A #\n",
    "\n",
    "Edoardo Koelliker, 288831, edoardo.koelliker@studenti.luiss.it\n",
    "Valentina Franci, 288291, valentina.franci@studenti.luiss.it\n",
    "Edoardo Pichi, 285291, edoardo.pichi@studenti.luiss.it\n",
    "Vincenzo Zoino, 279731, vincenzo.zoino@studenti.luiss.it"
   ]
  },
  {
   "cell_type": "markdown",
   "id": "e911cf6f",
   "metadata": {},
   "source": []
  },
  {
   "cell_type": "markdown",
   "id": "38e54218",
   "metadata": {},
   "source": [
    "## Complexity analysis Problems ##\n",
    "\n",
    "- **P1:** Explain the working principles of the following sorting algorithm, and discuss its complexity in terms of the length $n$ of the input array\n",
    "- **P2:** Measure the computational complexity of the algorithm experimentally, using the running time of the corrisponding function for inputs of different sizes."
   ]
  },
  {
   "attachments": {},
   "cell_type": "markdown",
   "id": "bca6a6f4",
   "metadata": {},
   "source": [
    "P1 answer:\n",
    "The primary line odefines sortA() with the unmarried parameter \"array\", that will be sorted.\n",
    "The algorithm iterates via the array from the primary to the ultimate element thanks to: i in range(n) (the outer loop).\n",
    "For every new release it compares all of the factors and adjusts their role in case they`re withinside the incorrect order (for instance if the\n",
    "present element is larger than the following one)\n",
    "the methodology is repeated untill the array is sorted; if a byskip completes with none adjustments the set of rules terminates early due to the fact the array is sorted;\n",
    "on the cease the looked after array is confirmed because the output (go back array).\n",
    "As long as complexity evaluation is concerned, we seek advice from area complexity and time complexity.\n",
    "Time complexity tells us thet the algorithm has a liner time due to the increase in the running time\n",
    "proportionally to the amount of iterations of the inner loop (n^2 - n) / 2) withinside the worst case.\n",
    "In the satisfactory case the array is sorted already.\n",
    "The common case will be the case wherein the array is halfway sorted and the internal loop can avoid to carry out the most variety of comparisons and swaps in every step.\n",
    "\n",
    "\n",
    "P2 answer: \n",
    "\n",
    "import random\n",
    "import time\n",
    "\n",
    "array_sizes = [10, 100, 1000, 10000]\n",
    "for size in array_sizes:\n",
    "    rd_array = [random.randint(1, 1000) for _ in range(size)]\n",
    "    start_time = time.time()\n",
    "    sortA(rd_array)\n",
    "    end_time = time.time()\n",
    "    \n",
    "    running_time = end_time - start_time\n",
    "    print(f\"Running Time: {running_time} seconds\")\n",
    "\n",
    "We generated random arrays of various sizes (10, 100, 1000, 10000) and measured the running time of the sorting algorithm.\n",
    "Running time is measured by taking the difference between the start time and end time of the algorithm. As a result, the running time changes\n",
    "proportional to input size. A size of 10 gives very short execution times while 100, 1000, etc. gives longer execution times.\n",
    "This proves the time complexity analysis which stated that the algorithm is characterized by linear time."
   ]
  },
  {
   "cell_type": "markdown",
   "metadata": {},
   "source": [
    "# Project Assignment part #1 -- Due by June 14, 23:59 #"
   ]
  },
  {
   "attachments": {},
   "cell_type": "markdown",
   "id": "3ef0bed6",
   "metadata": {},
   "source": [
    "\n",
    "\n"
   ]
  },
  {
   "cell_type": "code",
   "execution_count": 11,
   "metadata": {},
   "outputs": [],
   "source": [
    "def sortA(array):         #function definition taking an input array as a parameter\n",
    "    n = len(array)        #The length of the input array is assigned to the variable \"n\" \n",
    "    for i in range(n):       #outerloop\n",
    "        already_sorted = True     #flag variable set to true to check if swaps exists\n",
    "        for j in range(n - i - 1):    #inner loop compares adjacent elements and swaps them\n",
    "            if array[j] > array[j + 1]:    #condition that checks if the current element are greater than the next. If so, a swap is performed using the tuple assignment \n",
    "                array[j], array[j + 1] = array[j + 1], array[j]\n",
    "                already_sorted = False   #if a swap occurs during the inner loop, this indicates that the array is not yet fully sorted\n",
    "        if already_sorted:         #checkpoint; if still true, no swaps were made so array is sorted.             \n",
    "            break        #loop control statement to break out the code of the outer loop\n",
    "    return array       #output of function provided by returning the sorted array"
   ]
  },
  {
   "cell_type": "markdown",
   "metadata": {},
   "source": [
    "\n",
    "## Data analysis Tasks ##\n",
    "\n",
    "### Data preparation and overview ###\n",
    "\n",
    "- **T1:** Using pandas, import the dataset included in the 'data/' folder. \n",
    "- **T2:** Check and clean the dataset:\n",
    "    - **T2.1:** Verify whether the dataset contains null/missing values or duplicated rows. Deal with them appropriately.\n",
    "    - **T2.2:** Check whether the dataset contains any useless column that can be dropped.\n",
    "    - **T2.3:** Check the data types assigned to the columns of the dataframe and change them if needed.\n",
    "- **T3:** Overview:\n",
    "    - **T3.1:** Visualize a sample and a summary of the data.\n",
    "    - **T3.2:** Briefly describe the content of the dataset and what each column of the dataframe contains.\n",
    "    - **T3.3:** Plot the statistical distribution of all numeric columns."
   ]
  },
  {
   "cell_type": "code",
   "execution_count": null,
   "metadata": {},
   "outputs": [],
   "source": [
    "import pandas as pd\n",
    "file_path = '/Users/lucillasegoni/Desktop/IT_sales.csv'\n",
    "df = pd.read_csv(file_path)\n",
    "print(df)\n",
    "\n",
    "missing_values = df.isna().any()\n",
    "print(\"Missing values per column:\\n\", missing_values)\n",
    "\n",
    "sum_missingv = df.isna().sum()\n",
    "print(\"Sum of missing values is: \", sum_missingv)\n",
    "\n",
    "df.dropna(subset=['Product'], inplace=True)\n",
    "df.dropna(subset = ['Quantity Ordered'], inplace=True)\n",
    "df.dropna(subset=['Price Each'], inplace=True)\n",
    "df.dropna(subset=['Order Date'], inplace=True)\n",
    "df.dropna(subset=['Purchase Address'], inplace=True)\n",
    "\n",
    "\n",
    "duplicated_rows = df.duplicated()\n",
    "print(\"Duplicated rows:\\n\", df[duplicated_rows])\n",
    "\n",
    "total_duplicates = duplicated_rows.sum()\n",
    "print(\"Total duplicated rows:\", total_duplicates)\n",
    "df.drop_duplicates(inplace=True)\n",
    "\n",
    "print(df.dtypes)\n",
    "df['Order Date'] = pd.to_datetime(df['Order Date'])\n",
    "df['Type'] = df['Type'].astype(str)  \n",
    "\n",
    "print(df.head())  #sampledata\n",
    "print(df.describe()) #summary to show count,mean,sd,min...\n",
    "\n",
    "import pandas as pd\n",
    "import matplotlib.pyplot as plt\n",
    "\n",
    "value_counts = df['Order ID'].value_counts()\n",
    "value_counts.hist()\n",
    "plt.xlabel('Values')\n",
    "plt.ylabel('Frequency')\n",
    "plt.title('Distribution of Order ID column (Discrete Data)')\n",
    "plt.savefig('histogramA.png')\n",
    "\n",
    "value_counts = df['Customer ID'].value_counts()\n",
    "value_counts.hist()\n",
    "plt.xlabel('Values')\n",
    "plt.ylabel('Frequency')\n",
    "plt.title('Distribution of Customer ID column (Discrete Data)')\n",
    "plt.savefig('histogramB.png')\n",
    "\n",
    "value_counts = df['Quantity Ordered'].value_counts()\n",
    "value_counts.hist()\n",
    "plt.xlabel('Values')\n",
    "plt.ylabel('Frequency')\n",
    "plt.title('Distribution of Quantity Ordered column (Discrete Data)')\n",
    "plt.savefig('histogramC.png')\n",
    "\n",
    "value_counts = df['Price Each'].value_counts()\n",
    "value_counts.hist()\n",
    "plt.xlabel('Values')\n",
    "plt.ylabel('Frequency')\n",
    "plt.title('Distribution of Price Each column (Discrete Data)')\n",
    "plt.savefig('histogramD.png')\n",
    "\n",
    "T1: #The very first thing to do is to insert the path in order to read the dataset and open it.\n",
    "T2.1: #As it was asked we found some missing values: in particular for all the Columns except \"Customer ID\" and \"Type\". Summing all of them we got ​​545 missing\n",
    "#values ​​for each affected column. (Some rows are entirely with missing values).\n",
    "T2.2: #since the previous answer, we drop these rows and we did exact the same action for duplicated rows as there were 281 of them.\n",
    "T2.3: #Next, We altered some data types assigned: the “order date ” column from object to datatime and the column “ type ” into a string datatype.checked the data types assigned to each column and made some changes. I changed the order date column from:\n",
    "#I changed the object to datetime and changed the Type column to a string data type.\n",
    "T3.1: #We figure a sample and the final output of data in order to obtained some statistical parameters such as the mean and the standard deviation.\n",
    "T3.2: #The data set contains 2019 IT sales and each column contains specific information (numbers associated with order, costumers and product).\n",
    "#The 5-foot column represents the quantity ordered for each product and the 6th is about the unit price for each item sold. The second last column contains the order date and the penultimate column contains the purchase address. \n",
    "T3.3:# In conclusion we pick out the numeric columns (Unit Price, Order Quantity, Customer ID, and Order ID) and plotted their statistical distributions in an histogram.\n"
   ]
  }
 ],
 "metadata": {
  "kernelspec": {
   "display_name": "Python 3",
   "language": "python",
   "name": "python3"
  },
  "language_info": {
   "codemirror_mode": {
    "name": "ipython",
    "version": 3
   },
   "file_extension": ".py",
   "mimetype": "text/x-python",
   "name": "python",
   "nbconvert_exporter": "python",
   "pygments_lexer": "ipython3",
   "version": "3.8.10"
  }
 },
 "nbformat": 4,
 "nbformat_minor": 5
}
